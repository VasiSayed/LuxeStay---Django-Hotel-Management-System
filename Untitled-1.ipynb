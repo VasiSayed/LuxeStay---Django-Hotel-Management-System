{
 "cells": [
  {
   "cell_type": "code",
   "execution_count": 5,
   "metadata": {},
   "outputs": [
    {
     "name": "stdout",
     "output_type": "stream",
     "text": [
      "[1, 2]\n",
      "[2, 1]\n"
     ]
    }
   ],
   "source": [
    "target=47\n",
    "num=[2,3,44,12]\n",
    "def targe(num,target):\n",
    "    for i in range(0,len(num)):\n",
    "        for j in range(0,len(num)):\n",
    "            if num[i]+num[j]==target:\n",
    "                print([i,j])\n",
    "\n",
    "targe(num,target)\n"
   ]
  },
  {
   "cell_type": "code",
   "execution_count": null,
   "metadata": {},
   "outputs": [],
   "source": [
    "for i in range(0,5,1):\n",
    "    for j in range(0,5,1):\n",
    "        print(\"*\"*j)"
   ]
  },
  {
   "cell_type": "code",
   "execution_count": 3,
   "metadata": {},
   "outputs": [
    {
     "name": "stdout",
     "output_type": "stream",
     "text": [
      "*****\n",
      "*****\n",
      "*****\n",
      "*****\n",
      "*****\n"
     ]
    }
   ],
   "source": [
    "for i in range(0,5):\n",
    "    print(\"*\"*5)"
   ]
  },
  {
   "cell_type": "code",
   "execution_count": 20,
   "metadata": {},
   "outputs": [
    {
     "name": "stdout",
     "output_type": "stream",
     "text": [
      "One two Seven Eigth Sorry Sorry "
     ]
    }
   ],
   "source": [
    "d={\"1\":\"One\",\"2\":\"two\",\"3\":\"Three\",\"4\":\"Four\",\"5\":\"Five\",\"6\":\"Six\",\"7\":\"Seven\",\"8\":\"Eigth\",\"9\":\"Nine\",\"0\":\"zero\"}\n",
    "a=\"1278mj\"\n",
    "for i in a:\n",
    "    print(d.get(i,\"Sorry\"),end=\" \")\n",
    "\n"
   ]
  },
  {
   "cell_type": "code",
   "execution_count": 38,
   "metadata": {},
   "outputs": [
    {
     "name": "stdout",
     "output_type": "stream",
     "text": [
      "{'k': 1, 'm': 1, 'u': 1, 'j': 2, 'h': 5, 'g': 5, 'f': 2, 'n': 1, 'y': 1, 'b': 1, 't': 1, 'v': 1, 'c': 1, 'd': 1}\n"
     ]
    }
   ],
   "source": [
    "a=\"kmujjhgfhghghgnyhbtgvfcd\"\n",
    "d={}\n",
    "\n",
    "for i in a:\n",
    "    if d.get(i)!=None:\n",
    "        d[i]+=1\n",
    "    else:\n",
    "        d[i]=1\n",
    "print(d)\n"
   ]
  },
  {
   "cell_type": "code",
   "execution_count": 44,
   "metadata": {},
   "outputs": [
    {
     "name": "stdout",
     "output_type": "stream",
     "text": [
      "{'k': 1, 'm': 1, 'u': 1, 'j': 2, 'h': 5, 'g': 5, 'f': 2, 'n': 1, 'y': 1, 'b': 1, 't': 1, 'v': 1, 'c': 1, 'd': 1}\n"
     ]
    }
   ],
   "source": [
    "a=\"kmujjhgfhghghgnyhbtgvfcd\"\n",
    "d={}\n",
    "for i in a:\n",
    "    d[i]=a.count(i)\n",
    "print(d)"
   ]
  },
  {
   "cell_type": "code",
   "execution_count": 43,
   "metadata": {},
   "outputs": [
    {
     "data": {
      "text/plain": [
       "4"
      ]
     },
     "execution_count": 43,
     "metadata": {},
     "output_type": "execute_result"
    }
   ],
   "source": [
    "a=\"ikjunybhgvtfffcfrdx\"\n",
    "a.count(\"f\")"
   ]
  },
  {
   "cell_type": "code",
   "execution_count": 45,
   "metadata": {},
   "outputs": [],
   "source": [
    "l1=[2,3,4]\n",
    "l2=[5,9,8]\n",
    "l1.reverse()\n",
    "l2.reverse()\n",
    "\n",
    "    "
   ]
  },
  {
   "cell_type": "code",
   "execution_count": 19,
   "metadata": {},
   "outputs": [
    {
     "name": "stdout",
     "output_type": "stream",
     "text": [
      "[40, 30, 20, 10]\n"
     ]
    }
   ],
   "source": [
    "l = [10, 20, 30, 40]\n",
    "l2 = []\n",
    "for i in range(len(l)-1, -1, -1):\n",
    "    l1.append(l[i])\n",
    "\n",
    "print(l2)\n"
   ]
  },
  {
   "cell_type": "code",
   "execution_count": 27,
   "metadata": {},
   "outputs": [
    {
     "name": "stdout",
     "output_type": "stream",
     "text": [
      "[1, 4, 6]\n"
     ]
    }
   ],
   "source": [
    "l=[1,4,83]\n",
    "l1=[4,5,6]\n",
    "l2=[]\n",
    "l+l1\n",
    "for i in range(len(l)):\n",
    "    if l[i]>l1[i]:\n",
    "        l2.append(l1[i])\n",
    "    else:\n",
    "        l2.append(l[i])\n",
    "print(l2)"
   ]
  },
  {
   "cell_type": "code",
   "execution_count": 23,
   "metadata": {},
   "outputs": [
    {
     "name": "stdout",
     "output_type": "stream",
     "text": [
      "[40, 30, 20, 10]\n"
     ]
    }
   ],
   "source": [
    "l = [10, 20, 30, 40]\n",
    "l2=[]\n",
    "for i in range(len(l)-1,-1,-1):\n",
    "    l2.append(l[i])\n",
    "print(l2)"
   ]
  },
  {
   "cell_type": "code",
   "execution_count": 29,
   "metadata": {},
   "outputs": [
    {
     "name": "stdout",
     "output_type": "stream",
     "text": [
      "43\n"
     ]
    }
   ],
   "source": [
    "a=0\n",
    "l=[23,43,27]\n",
    "for i in l:\n",
    "    if i>a:\n",
    "        a=i\n",
    "print(a)"
   ]
  },
  {
   "cell_type": "code",
   "execution_count": 39,
   "metadata": {},
   "outputs": [
    {
     "data": {
      "text/plain": [
       "443"
      ]
     },
     "execution_count": 39,
     "metadata": {},
     "output_type": "execute_result"
    }
   ],
   "source": [
    "l=[i for i in range(1,11)]\n",
    "l1=[23,544,443,22]\n",
    "l1.sort()\n",
    "l1[len(l1)-2]\n"
   ]
  },
  {
   "cell_type": "code",
   "execution_count": 42,
   "metadata": {},
   "outputs": [
    {
     "name": "stdout",
     "output_type": "stream",
     "text": [
      "[2, 2, 3, 4, 5, 7, 8, 7]\n",
      "[2, 3, 4, 5, 7, 8]\n"
     ]
    }
   ],
   "source": [
    "l=[2,2,3,4,5,7,8,7]\n",
    "l1=[]\n",
    "for i in l:\n",
    "    if i in l1:\n",
    "        continue\n",
    "    else:\n",
    "        l1.append(i)\n",
    "print(l)\n",
    "print(l1)"
   ]
  },
  {
   "cell_type": "code",
   "execution_count": 43,
   "metadata": {},
   "outputs": [
    {
     "name": "stdout",
     "output_type": "stream",
     "text": [
      "155\n"
     ]
    }
   ],
   "source": [
    "l=[2,34,54,65]\n",
    "a=0\n",
    "for i in l:\n",
    "    a+=i\n",
    "print(a)"
   ]
  },
  {
   "cell_type": "code",
   "execution_count": 44,
   "metadata": {},
   "outputs": [
    {
     "name": "stdout",
     "output_type": "stream",
     "text": [
      "[2, 3]\n"
     ]
    }
   ],
   "source": [
    "l=[2,3,4,5]\n",
    "a=[2,3,9,8]\n",
    "s=[]\n",
    "for i in l:\n",
    "        if i in a:\n",
    "                s.append(i)\n",
    "print(s)"
   ]
  },
  {
   "cell_type": "code",
   "execution_count": null,
   "metadata": {},
   "outputs": [
    {
     "data": {
      "text/plain": [
       "'Not an anagram'"
      ]
     },
     "execution_count": 53,
     "metadata": {},
     "output_type": "execute_result"
    }
   ],
   "source": [
    "a=\"sakki\"\n",
    "b=\"ikksa\"\n",
    "\n",
    "def anagrammmm(a,b):\n",
    "    if len(a)!=len(b):\n",
    "        return \"Not A anagram\"\n",
    "    c={}\n",
    "    for i in a:\n",
    "        if i in c:\n",
    "            c[i]+=1\n",
    "        else:\n",
    "            c[i]=1\n",
    "    for i in b:\n",
    "        if i not in c:\n",
    "            return \"Not an anagram\"\n",
    "        if i in c:\n",
    "            c[i]-=1\n",
    "    \n",
    "    for i in a:\n",
    "        if c[i]==0:\n",
    "            continue\n",
    "        else:\n",
    "            return \"not an anagram\"\n",
    "    \n",
    "    for co in c.values():\n",
    "        if co != 0:\n",
    "            return \"Not an anagram\"\n",
    "    \n",
    "    return \"It is an anagram\"\n",
    "    \n",
    "\n",
    "v=\"vasi\"\n",
    "k=\"siak\"\n",
    "anagrammmm(v,k)\n"
   ]
  },
  {
   "cell_type": "code",
   "execution_count": 46,
   "metadata": {},
   "outputs": [
    {
     "name": "stdout",
     "output_type": "stream",
     "text": [
      "False\n"
     ]
    }
   ],
   "source": [
    "l={2:3,4:67}\n",
    "print(5 in l)"
   ]
  },
  {
   "cell_type": "code",
   "execution_count": null,
   "metadata": {},
   "outputs": [],
   "source": [
    "a=0\n",
    "b=1\n",
    "for i in range(12):\n",
    "    a=b\n",
    "    b=b+a\n",
    "    print(b)\n"
   ]
  },
  {
   "cell_type": "code",
   "execution_count": 2,
   "metadata": {},
   "outputs": [
    {
     "name": "stdout",
     "output_type": "stream",
     "text": [
      "[2, 3, 6, 7]\n"
     ]
    }
   ],
   "source": [
    "a=[2,2,3,3,6,7,6]\n",
    "b=[]\n",
    "for i in a:\n",
    "    if i in b:\n",
    "        continue\n",
    "    else:\n",
    "        b.append(i)\n",
    "print(b)"
   ]
  },
  {
   "cell_type": "code",
   "execution_count": null,
   "metadata": {},
   "outputs": [],
   "source": [
    "a=[lambda x:x*i for i in range(12) ]\n"
   ]
  },
  {
   "cell_type": "code",
   "execution_count": 25,
   "metadata": {},
   "outputs": [
    {
     "data": {
      "text/plain": [
       "189"
      ]
     },
     "execution_count": 25,
     "metadata": {},
     "output_type": "execute_result"
    }
   ],
   "source": [
    "def sumall(*a):\n",
    "    sum1=0\n",
    "    for i in a:\n",
    "            sum1+=i\n",
    "\n",
    "    return sum1\n",
    "sumall(2,3,4,5,67,8,100)"
   ]
  },
  {
   "cell_type": "code",
   "execution_count": 39,
   "metadata": {},
   "outputs": [
    {
     "data": {
      "text/plain": [
       "[1, 2, 3, 4]"
      ]
     },
     "execution_count": 39,
     "metadata": {},
     "output_type": "execute_result"
    }
   ],
   "source": [
    "a=[i for i in range(10)]\n",
    "a[1:5]\n"
   ]
  },
  {
   "cell_type": "code",
   "execution_count": 9,
   "metadata": {},
   "outputs": [
    {
     "name": "stdout",
     "output_type": "stream",
     "text": [
      "Two THree Four Five Six Seven "
     ]
    }
   ],
   "source": [
    "a={\"1\":\"One\",\"2\":\"Two\",\"3\":\"THree\",\"4\":\"Four\",\"5\":\"Five\",\"6\":\"Six\",\"7\":\"Seven\",\"8\":\"Eigth\",\"9\":\"Nine\"}\n",
    "c=input(\"enter number :-\")\n",
    "for i in c:\n",
    "    print(a.get(i,f\"({i} not avalaible)\"),end=\" \")"
   ]
  },
  {
   "cell_type": "code",
   "execution_count": 36,
   "metadata": {},
   "outputs": [
    {
     "data": {
      "text/plain": [
       "[0, 1, 2, 3, 4, 5, 6, 7, 8, 9]"
      ]
     },
     "execution_count": 36,
     "metadata": {},
     "output_type": "execute_result"
    }
   ],
   "source": [
    "a=[i for i in range(0,10)]\n",
    "a"
   ]
  },
  {
   "cell_type": "code",
   "execution_count": null,
   "metadata": {},
   "outputs": [],
   "source": [
    "def Star(n):\n",
    "    for i in range(n,-1,-1):\n",
    "        print(\"*\"*i)\n",
    "\n",
    "Star(10)"
   ]
  },
  {
   "cell_type": "code",
   "execution_count": null,
   "metadata": {},
   "outputs": [],
   "source": [
    "def NStart(n):\n",
    "    for i in range(1,n,1):\n",
    "        print(\"*\"*i)\n",
    "\n",
    "NStart(15)"
   ]
  },
  {
   "cell_type": "code",
   "execution_count": 67,
   "metadata": {},
   "outputs": [
    {
     "name": "stdout",
     "output_type": "stream",
     "text": [
      "            * \n",
      "           * * \n",
      "          * * * \n",
      "         * * * * \n",
      "        * * * * * \n",
      "       * * * * * * \n",
      "      * * * * * * * \n",
      "     * * * * * * * * \n",
      "    * * * * * * * * * \n",
      "   * * * * * * * * * * \n",
      "  * * * * * * * * * * * \n",
      "           ***\n",
      "           ***\n",
      "           ***\n",
      "           ***\n",
      "           ***\n",
      "           ***\n",
      "           ***\n",
      "***********************************\n",
      "***********************************\n",
      "***********************************\n"
     ]
    }
   ],
   "source": [
    "for i in range(1,12):\n",
    "    print(\" \"*(12-i),\"* \"*i)\n",
    "for i in range(1,8):\n",
    "    print(\" \"*(5+5),\"*\"*3,)\n",
    "for i in range(1,4):\n",
    "    print(\"*\"*35)\n",
    "    \n"
   ]
  },
  {
   "cell_type": "code",
   "execution_count": 72,
   "metadata": {},
   "outputs": [
    {
     "data": {
      "text/plain": [
       "[2, 4, 6, 8]"
      ]
     },
     "execution_count": 72,
     "metadata": {},
     "output_type": "execute_result"
    }
   ],
   "source": [
    "a=[i for i in range(1,10)if i%2==0]\n",
    "a"
   ]
  },
  {
   "cell_type": "code",
   "execution_count": 14,
   "metadata": {},
   "outputs": [
    {
     "name": "stdout",
     "output_type": "stream",
     "text": [
      "1 Prime Number\n",
      "2 Prime Number\n",
      "3 Prime Number\n",
      "4 Not Prime Number\n",
      "5 Prime Number\n",
      "6 Not Prime Number\n",
      "7 Prime Number\n",
      "8 Not Prime Number\n",
      "9 Not Prime Number\n"
     ]
    }
   ],
   "source": [
    "for i in range(1,10):\n",
    "    count=0\n",
    "    for j in range(2,i):\n",
    "        if i%j==0:\n",
    "            count+=1\n",
    "    if count==0:\n",
    "        print(i,\"Prime Number\")\n",
    "    else:\n",
    "        print(i,\"Not Prime Number\")\n"
   ]
  },
  {
   "cell_type": "code",
   "execution_count": null,
   "metadata": {},
   "outputs": [],
   "source": [
    "n=30\n",
    "for i in range(1,30):\n",
    "    count=0\n",
    "    for j in range(2,i):\n",
    "        if i%j==0:\n",
    "            count+=1\n",
    "    if count==0:\n",
    "        print(i,\"prime number\")"
   ]
  },
  {
   "cell_type": "code",
   "execution_count": 20,
   "metadata": {},
   "outputs": [
    {
     "name": "stdout",
     "output_type": "stream",
     "text": [
      "0  1  1  2  3  5  8  13  21  34  "
     ]
    }
   ],
   "source": [
    "a=0\n",
    "b=1\n",
    "for i in range(10):\n",
    "    print(a,end=\"  \")\n",
    "    a,b=b,b+a\n"
   ]
  },
  {
   "cell_type": "code",
   "execution_count": null,
   "metadata": {},
   "outputs": [],
   "source": [
    "def fibanochi(n):\n",
    "    a,b=0,1\n",
    "    for i in range(n):\n",
    "        if a!=0 :\n",
    "            if a!=1:\n",
    "                print(a)\n",
    "        a,b=b,a+b\n",
    "\n",
    "fibanochi(20)"
   ]
  },
  {
   "cell_type": "code",
   "execution_count": null,
   "metadata": {},
   "outputs": [],
   "source": [
    "a=0\n",
    "b=1\n",
    "for i in range(1,30):\n",
    "    print(a)\n",
    "    a,b=b,a+b"
   ]
  },
  {
   "cell_type": "code",
   "execution_count": 44,
   "metadata": {},
   "outputs": [
    {
     "data": {
      "text/plain": [
       "479001600"
      ]
     },
     "execution_count": 44,
     "metadata": {},
     "output_type": "execute_result"
    }
   ],
   "source": [
    "def fectorial(n):\n",
    "    fac=1\n",
    "    for i in range(1,n+1):\n",
    "        fac=fac*i\n",
    "    return fac\n",
    "\n",
    "fectorial(12)"
   ]
  },
  {
   "cell_type": "code",
   "execution_count": 49,
   "metadata": {},
   "outputs": [
    {
     "name": "stdout",
     "output_type": "stream",
     "text": [
      "Total + 2 = 2\n",
      "Total + 4 = 6\n",
      "Total + 6 = 12\n",
      "Total + 8 = 20\n",
      "Total + 10 = 30\n",
      "Total + 12 = 42\n",
      "Total + 14 = 56\n",
      "Total + 16 = 72\n",
      "Total + 18 = 90\n",
      "Total + 20 = 110\n",
      "110\n"
     ]
    }
   ],
   "source": [
    "total=0\n",
    "for i in range(1,21):\n",
    "    if i % 2 == 0:\n",
    "        total+=i\n",
    "        print(f\"Total + {i} = {total}\")\n",
    "print(total)"
   ]
  },
  {
   "cell_type": "code",
   "execution_count": 57,
   "metadata": {},
   "outputs": [
    {
     "name": "stdout",
     "output_type": "stream",
     "text": [
      "big=0 but it will be 12\n",
      "big=12 but it will be 23\n",
      "big=23 but it will be 45\n",
      "big=45 but it will be 56\n",
      "big=56 but it will be 78\n",
      "big=78 but it will be 90\n"
     ]
    },
    {
     "data": {
      "text/plain": [
       "90"
      ]
     },
     "execution_count": 57,
     "metadata": {},
     "output_type": "execute_result"
    }
   ],
   "source": [
    "numbers = [12, 45, 23,90, 78, 56]\n",
    "numbers.sort()\n",
    "big=0\n",
    "for i in numbers:\n",
    "    if big<i:\n",
    "        print(f\"big={big} but it will be {i}\")\n",
    "        big=i\n",
    "big\n"
   ]
  },
  {
   "cell_type": "code",
   "execution_count": 58,
   "metadata": {},
   "outputs": [
    {
     "name": "stdout",
     "output_type": "stream",
     "text": [
      "765432\n"
     ]
    }
   ],
   "source": [
    "a=input(\"enter\")\n",
    "print(a[::-1])"
   ]
  },
  {
   "cell_type": "code",
   "execution_count": 59,
   "metadata": {},
   "outputs": [
    {
     "name": "stdout",
     "output_type": "stream",
     "text": [
      "5 x 1 = 5 \n",
      "5 x 2 = 10 \n",
      "5 x 3 = 15 \n",
      "5 x 4 = 20 \n",
      "5 x 5 = 25 \n",
      "5 x 6 = 30 \n",
      "5 x 7 = 35 \n",
      "5 x 8 = 40 \n",
      "5 x 9 = 45 \n",
      "5 x 10 = 50 \n"
     ]
    }
   ],
   "source": [
    "n=5\n",
    "for i in range(1,11):\n",
    "    print(f\"{n} x {i} = {i*n} \")"
   ]
  },
  {
   "cell_type": "code",
   "execution_count": 64,
   "metadata": {},
   "outputs": [
    {
     "name": "stdout",
     "output_type": "stream",
     "text": [
      "24\n"
     ]
    }
   ],
   "source": [
    "n='987'\n",
    "plus=0\n",
    "for i in n:\n",
    "    i=int(i)\n",
    "    plus+=i\n",
    "print(plus)\n"
   ]
  },
  {
   "cell_type": "code",
   "execution_count": 81,
   "metadata": {},
   "outputs": [
    {
     "name": "stdout",
     "output_type": "stream",
     "text": [
      "*\n",
      "**\n",
      "***\n",
      "****\n",
      "*****\n"
     ]
    }
   ],
   "source": [
    "n=5\n",
    "for i in range(1,n+1):\n",
    "    print(\"*\"*i)"
   ]
  },
  {
   "cell_type": "code",
   "execution_count": 76,
   "metadata": {},
   "outputs": [
    {
     "data": {
      "text/plain": [
       "'^^^^^^'"
      ]
     },
     "execution_count": 76,
     "metadata": {},
     "output_type": "execute_result"
    }
   ],
   "source": [
    "\"^\"*6"
   ]
  },
  {
   "cell_type": "code",
   "execution_count": 89,
   "metadata": {},
   "outputs": [
    {
     "name": "stdout",
     "output_type": "stream",
     "text": [
      " \n",
      " *\n",
      " ****\n",
      " *********\n",
      " ****************\n",
      " *************************\n",
      " ************************************\n",
      " *************************************************\n",
      " ****************************************************************\n",
      " *********************************************************************************\n"
     ]
    }
   ],
   "source": [
    "for i in range(10):\n",
    "    print(\" \"+\"*\"*i)"
   ]
  },
  {
   "cell_type": "code",
   "execution_count": 104,
   "metadata": {},
   "outputs": [],
   "source": [
    "a=\"sdffffff\"\n",
    "b=(2,5,6,8,9)\n",
    "v={\"23\",544}\n",
    "v.add((\"2\",5))"
   ]
  },
  {
   "cell_type": "code",
   "execution_count": 105,
   "metadata": {},
   "outputs": [],
   "source": [
    "a=list()\n",
    "b=[2,]\n",
    "\n",
    "c={3,\"4\",\"7\"}  \n",
    "c={4:\"four\"}        \n"
   ]
  },
  {
   "cell_type": "code",
   "execution_count": 107,
   "metadata": {},
   "outputs": [
    {
     "name": "stdout",
     "output_type": "stream",
     "text": [
      "210\n"
     ]
    }
   ],
   "source": [
    "a=[5,6,7]\n",
    "mul=1\n",
    "for i in a:\n",
    "    mul=i*mul\n",
    "print(mul)"
   ]
  },
  {
   "cell_type": "code",
   "execution_count": 111,
   "metadata": {},
   "outputs": [
    {
     "name": "stdout",
     "output_type": "stream",
     "text": [
      "0\n",
      "1\n",
      "1\n",
      "2\n",
      "3\n",
      "5\n",
      "8\n",
      "13\n",
      "21\n",
      "34\n"
     ]
    }
   ],
   "source": [
    "a=0\n",
    "b=1\n",
    "for i in range(10):\n",
    "    print(a)\n",
    "    a,b = b , a+  b\n",
    "\n"
   ]
  },
  {
   "cell_type": "code",
   "execution_count": null,
   "metadata": {},
   "outputs": [],
   "source": [
    "a,b=0,1\n",
    "for i in range(20):\n",
    "    print(a)\n",
    "    a,b=b,a+b"
   ]
  },
  {
   "cell_type": "code",
   "execution_count": 117,
   "metadata": {},
   "outputs": [
    {
     "name": "stdout",
     "output_type": "stream",
     "text": [
      "8841761993739701954543616000000\n"
     ]
    }
   ],
   "source": [
    "fact=1\n",
    "for i in range(1,29+1):\n",
    "    fact=fact*i\n",
    "print(fact)\n"
   ]
  },
  {
   "cell_type": "code",
   "execution_count": 122,
   "metadata": {},
   "outputs": [
    {
     "data": {
      "text/plain": [
       "(3, 4, [45, 78, 67], 'jhgfd')"
      ]
     },
     "execution_count": 122,
     "metadata": {},
     "output_type": "execute_result"
    }
   ],
   "source": [
    "a=(3,4,[45,78],\"jhgfd\")\n",
    "a[2].append(67)\n",
    "a"
   ]
  },
  {
   "cell_type": "code",
   "execution_count": 126,
   "metadata": {},
   "outputs": [
    {
     "name": "stdout",
     "output_type": "stream",
     "text": [
      "1 is prime\n",
      "2 is prime\n",
      "3 is prime\n",
      "5 is prime\n",
      "7 is prime\n",
      "11 is prime\n",
      "13 is prime\n",
      "17 is prime\n",
      "19 is prime\n"
     ]
    }
   ],
   "source": [
    "for i in range(1,20+1):\n",
    "    count=0\n",
    "    for j in range(2,i):\n",
    "        if i % j == 0:\n",
    "            count+=1\n",
    "            \n",
    "    if count==0:\n",
    "        print(f\"{i} is prime\")"
   ]
  },
  {
   "cell_type": "markdown",
   "metadata": {},
   "source": [
    "class is a m=special method jo object bant te hi call hojata hai  constructer initialize karta hia object ko uske madad"
   ]
  },
  {
   "cell_type": "code",
   "execution_count": 131,
   "metadata": {},
   "outputs": [
    {
     "name": "stdout",
     "output_type": "stream",
     "text": [
      "[1, 2, 3, 4, 5, 6, 7, 8, 9, 10, 11, 12, 13, 14]\n"
     ]
    },
    {
     "data": {
      "text/plain": [
       "[2, 4, 6, 8, 10, 12, 14]"
      ]
     },
     "execution_count": 131,
     "metadata": {},
     "output_type": "execute_result"
    }
   ],
   "source": [
    "a=[i for i in range(1,15)]\n",
    "b=[i for i in a if i%2==0]\n",
    "print(a)\n",
    "b"
   ]
  },
  {
   "cell_type": "code",
   "execution_count": 159,
   "metadata": {},
   "outputs": [
    {
     "data": {
      "text/plain": [
       "4"
      ]
     },
     "execution_count": 159,
     "metadata": {},
     "output_type": "execute_result"
    }
   ],
   "source": [
    "a={2,6,7}\n",
    "a.update({\"4\",8,0})\n",
    "a.difference_update({2,4,8})\n",
    "a.pop()\n",
    "a\n",
    "\n",
    "a=\"dfghjk\"\n",
    "a.count(\"f\")\n",
    "a.capitalize()\n",
    "a.find(\"j\")\n"
   ]
  },
  {
   "cell_type": "code",
   "execution_count": null,
   "metadata": {},
   "outputs": [],
   "source": [
    "a=list()\n",
    "a=[]\n",
    "a[2,3,4,5]"
   ]
  },
  {
   "cell_type": "code",
   "execution_count": 1,
   "metadata": {},
   "outputs": [
    {
     "name": "stdout",
     "output_type": "stream",
     "text": [
      "no\n"
     ]
    }
   ],
   "source": [
    "a=\"ddd4\"\n",
    "\n",
    "num=\"1234567890\"\n",
    "for i in a:\n",
    "    if i in num:\n",
    "        print(\"no\")"
   ]
  },
  {
   "cell_type": "code",
   "execution_count": 14,
   "metadata": {},
   "outputs": [
    {
     "data": {
      "text/plain": [
       "(2, '3', ['4', '6'], 4.5, {4: '5'}, {2, 3, 4})"
      ]
     },
     "execution_count": 14,
     "metadata": {},
     "output_type": "execute_result"
    }
   ],
   "source": [
    "a=(2,\"3\",[\"4\",\"6\"],(4.5),{4:\"5\"},{2,3,4})\n",
    "a"
   ]
  }
 ],
 "metadata": {
  "kernelspec": {
   "display_name": "Python 3",
   "language": "python",
   "name": "python3"
  },
  "language_info": {
   "codemirror_mode": {
    "name": "ipython",
    "version": 3
   },
   "file_extension": ".py",
   "mimetype": "text/x-python",
   "name": "python",
   "nbconvert_exporter": "python",
   "pygments_lexer": "ipython3",
   "version": "3.10.5"
  }
 },
 "nbformat": 4,
 "nbformat_minor": 2
}
