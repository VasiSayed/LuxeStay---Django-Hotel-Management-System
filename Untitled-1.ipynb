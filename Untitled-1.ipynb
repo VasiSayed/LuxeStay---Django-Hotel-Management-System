{
 "cells": [
  {
   "cell_type": "code",
   "execution_count": 5,
   "metadata": {},
   "outputs": [
    {
     "name": "stdout",
     "output_type": "stream",
     "text": [
      "[1, 2]\n",
      "[2, 1]\n"
     ]
    }
   ],
   "source": [
    "target=47\n",
    "num=[2,3,44,12]\n",
    "def targe(num,target):\n",
    "    for i in range(0,len(num)):\n",
    "        for j in range(0,len(num)):\n",
    "            if num[i]+num[j]==target:\n",
    "                print([i,j])\n",
    "\n",
    "targe(num,target)\n"
   ]
  },
  {
   "cell_type": "code",
   "execution_count": null,
   "metadata": {},
   "outputs": [],
   "source": [
    "for i in range(0,5,1):\n",
    "    for j in range(0,5,1):\n",
    "        print(\"*\"*j)"
   ]
  },
  {
   "cell_type": "code",
   "execution_count": 3,
   "metadata": {},
   "outputs": [
    {
     "name": "stdout",
     "output_type": "stream",
     "text": [
      "*****\n",
      "*****\n",
      "*****\n",
      "*****\n",
      "*****\n"
     ]
    }
   ],
   "source": [
    "for i in range(0,5):\n",
    "    print(\"*\"*5)"
   ]
  },
  {
   "cell_type": "code",
   "execution_count": 20,
   "metadata": {},
   "outputs": [
    {
     "name": "stdout",
     "output_type": "stream",
     "text": [
      "One two Seven Eigth Sorry Sorry "
     ]
    }
   ],
   "source": [
    "d={\"1\":\"One\",\"2\":\"two\",\"3\":\"Three\",\"4\":\"Four\",\"5\":\"Five\",\"6\":\"Six\",\"7\":\"Seven\",\"8\":\"Eigth\",\"9\":\"Nine\",\"0\":\"zero\"}\n",
    "a=\"1278mj\"\n",
    "for i in a:\n",
    "    print(d.get(i,\"Sorry\"),end=\" \")\n",
    "\n"
   ]
  },
  {
   "cell_type": "code",
   "execution_count": 38,
   "metadata": {},
   "outputs": [
    {
     "name": "stdout",
     "output_type": "stream",
     "text": [
      "{'k': 1, 'm': 1, 'u': 1, 'j': 2, 'h': 5, 'g': 5, 'f': 2, 'n': 1, 'y': 1, 'b': 1, 't': 1, 'v': 1, 'c': 1, 'd': 1}\n"
     ]
    }
   ],
   "source": [
    "a=\"kmujjhgfhghghgnyhbtgvfcd\"\n",
    "d={}\n",
    "\n",
    "for i in a:\n",
    "    if d.get(i)!=None:\n",
    "        d[i]+=1\n",
    "    else:\n",
    "        d[i]=1\n",
    "print(d)\n"
   ]
  },
  {
   "cell_type": "code",
   "execution_count": 44,
   "metadata": {},
   "outputs": [
    {
     "name": "stdout",
     "output_type": "stream",
     "text": [
      "{'k': 1, 'm': 1, 'u': 1, 'j': 2, 'h': 5, 'g': 5, 'f': 2, 'n': 1, 'y': 1, 'b': 1, 't': 1, 'v': 1, 'c': 1, 'd': 1}\n"
     ]
    }
   ],
   "source": [
    "a=\"kmujjhgfhghghgnyhbtgvfcd\"\n",
    "d={}\n",
    "for i in a:\n",
    "    d[i]=a.count(i)\n",
    "print(d)"
   ]
  },
  {
   "cell_type": "code",
   "execution_count": 43,
   "metadata": {},
   "outputs": [
    {
     "data": {
      "text/plain": [
       "4"
      ]
     },
     "execution_count": 43,
     "metadata": {},
     "output_type": "execute_result"
    }
   ],
   "source": [
    "a=\"ikjunybhgvtfffcfrdx\"\n",
    "a.count(\"f\")"
   ]
  },
  {
   "cell_type": "code",
   "execution_count": 45,
   "metadata": {},
   "outputs": [],
   "source": [
    "l1=[2,3,4]\n",
    "l2=[5,9,8]\n",
    "l1.reverse()\n",
    "l2.reverse()\n",
    "\n",
    "    "
   ]
  },
  {
   "cell_type": "code",
   "execution_count": 19,
   "metadata": {},
   "outputs": [
    {
     "name": "stdout",
     "output_type": "stream",
     "text": [
      "[40, 30, 20, 10]\n"
     ]
    }
   ],
   "source": [
    "l = [10, 20, 30, 40]\n",
    "l2 = []\n",
    "for i in range(len(l)-1, -1, -1):\n",
    "    l1.append(l[i])\n",
    "\n",
    "print(l2)\n"
   ]
  },
  {
   "cell_type": "code",
   "execution_count": 27,
   "metadata": {},
   "outputs": [
    {
     "name": "stdout",
     "output_type": "stream",
     "text": [
      "[1, 4, 6]\n"
     ]
    }
   ],
   "source": [
    "l=[1,4,83]\n",
    "l1=[4,5,6]\n",
    "l2=[]\n",
    "l+l1\n",
    "for i in range(len(l)):\n",
    "    if l[i]>l1[i]:\n",
    "        l2.append(l1[i])\n",
    "    else:\n",
    "        l2.append(l[i])\n",
    "print(l2)"
   ]
  },
  {
   "cell_type": "code",
   "execution_count": 23,
   "metadata": {},
   "outputs": [
    {
     "name": "stdout",
     "output_type": "stream",
     "text": [
      "[40, 30, 20, 10]\n"
     ]
    }
   ],
   "source": [
    "l = [10, 20, 30, 40]\n",
    "l2=[]\n",
    "for i in range(len(l)-1,-1,-1):\n",
    "    l2.append(l[i])\n",
    "print(l2)"
   ]
  },
  {
   "cell_type": "code",
   "execution_count": 29,
   "metadata": {},
   "outputs": [
    {
     "name": "stdout",
     "output_type": "stream",
     "text": [
      "43\n"
     ]
    }
   ],
   "source": [
    "a=0\n",
    "l=[23,43,27]\n",
    "for i in l:\n",
    "    if i>a:\n",
    "        a=i\n",
    "print(a)"
   ]
  },
  {
   "cell_type": "code",
   "execution_count": 39,
   "metadata": {},
   "outputs": [
    {
     "data": {
      "text/plain": [
       "443"
      ]
     },
     "execution_count": 39,
     "metadata": {},
     "output_type": "execute_result"
    }
   ],
   "source": [
    "l=[i for i in range(1,11)]\n",
    "l1=[23,544,443,22]\n",
    "l1.sort()\n",
    "l1[len(l1)-2]\n"
   ]
  },
  {
   "cell_type": "code",
   "execution_count": 42,
   "metadata": {},
   "outputs": [
    {
     "name": "stdout",
     "output_type": "stream",
     "text": [
      "[2, 2, 3, 4, 5, 7, 8, 7]\n",
      "[2, 3, 4, 5, 7, 8]\n"
     ]
    }
   ],
   "source": [
    "l=[2,2,3,4,5,7,8,7]\n",
    "l1=[]\n",
    "for i in l:\n",
    "    if i in l1:\n",
    "        continue\n",
    "    else:\n",
    "        l1.append(i)\n",
    "print(l)\n",
    "print(l1)"
   ]
  },
  {
   "cell_type": "code",
   "execution_count": 43,
   "metadata": {},
   "outputs": [
    {
     "name": "stdout",
     "output_type": "stream",
     "text": [
      "155\n"
     ]
    }
   ],
   "source": [
    "l=[2,34,54,65]\n",
    "a=0\n",
    "for i in l:\n",
    "    a+=i\n",
    "print(a)"
   ]
  },
  {
   "cell_type": "code",
   "execution_count": 44,
   "metadata": {},
   "outputs": [
    {
     "name": "stdout",
     "output_type": "stream",
     "text": [
      "[2, 3]\n"
     ]
    }
   ],
   "source": [
    "l=[2,3,4,5]\n",
    "a=[2,3,9,8]\n",
    "s=[]\n",
    "for i in l:\n",
    "        if i in a:\n",
    "                s.append(i)\n",
    "print(s)"
   ]
  },
  {
   "cell_type": "code",
   "execution_count": null,
   "metadata": {},
   "outputs": [
    {
     "data": {
      "text/plain": [
       "'Not an anagram'"
      ]
     },
     "execution_count": 53,
     "metadata": {},
     "output_type": "execute_result"
    }
   ],
   "source": [
    "a=\"sakki\"\n",
    "b=\"ikksa\"\n",
    "\n",
    "def anagrammmm(a,b):\n",
    "    if len(a)!=len(b):\n",
    "        return \"Not A anagram\"\n",
    "    c={}\n",
    "    for i in a:\n",
    "        if i in c:\n",
    "            c[i]+=1\n",
    "        else:\n",
    "            c[i]=1\n",
    "    for i in b:\n",
    "        if i not in c:\n",
    "            return \"Not an anagram\"\n",
    "        if i in c:\n",
    "            c[i]-=1\n",
    "    \n",
    "    for i in a:\n",
    "        if c[i]==0:\n",
    "            continue\n",
    "        else:\n",
    "            return \"not an anagram\"\n",
    "    \n",
    "    for co in c.values():\n",
    "        if co != 0:\n",
    "            return \"Not an anagram\"\n",
    "    \n",
    "    return \"It is an anagram\"\n",
    "    \n",
    "\n",
    "v=\"vasi\"\n",
    "k=\"siak\"\n",
    "anagrammmm(v,k)\n"
   ]
  },
  {
   "cell_type": "code",
   "execution_count": 46,
   "metadata": {},
   "outputs": [
    {
     "name": "stdout",
     "output_type": "stream",
     "text": [
      "False\n"
     ]
    }
   ],
   "source": [
    "l={2:3,4:67}\n",
    "print(5 in l)"
   ]
  },
  {
   "cell_type": "code",
   "execution_count": null,
   "metadata": {},
   "outputs": [],
   "source": [
    "a=0\n",
    "b=1\n",
    "for i in range(12):\n",
    "    a=b\n",
    "    b=b+a\n",
    "    print(b)\n"
   ]
  },
  {
   "cell_type": "code",
   "execution_count": 2,
   "metadata": {},
   "outputs": [
    {
     "name": "stdout",
     "output_type": "stream",
     "text": [
      "[2, 3, 6, 7]\n"
     ]
    }
   ],
   "source": [
    "a=[2,2,3,3,6,7,6]\n",
    "b=[]\n",
    "for i in a:\n",
    "    if i in b:\n",
    "        continue\n",
    "    else:\n",
    "        b.append(i)\n",
    "print(b)"
   ]
  },
  {
   "cell_type": "code",
   "execution_count": null,
   "metadata": {},
   "outputs": [],
   "source": [
    "a=[lambda x:x*i for i in range(12) ]\n"
   ]
  },
  {
   "cell_type": "code",
   "execution_count": 25,
   "metadata": {},
   "outputs": [
    {
     "data": {
      "text/plain": [
       "189"
      ]
     },
     "execution_count": 25,
     "metadata": {},
     "output_type": "execute_result"
    }
   ],
   "source": [
    "def sumall(*a):\n",
    "    sum1=0\n",
    "    for i in a:\n",
    "            sum1+=i\n",
    "\n",
    "    return sum1\n",
    "sumall(2,3,4,5,67,8,100)"
   ]
  },
  {
   "cell_type": "code",
   "execution_count": 39,
   "metadata": {},
   "outputs": [
    {
     "data": {
      "text/plain": [
       "[1, 2, 3, 4]"
      ]
     },
     "execution_count": 39,
     "metadata": {},
     "output_type": "execute_result"
    }
   ],
   "source": [
    "a=[i for i in range(10)]\n",
    "a[1:5]\n"
   ]
  },
  {
   "cell_type": "code",
   "execution_count": 9,
   "metadata": {},
   "outputs": [
    {
     "name": "stdout",
     "output_type": "stream",
     "text": [
      "Two THree Four Five Six Seven "
     ]
    }
   ],
   "source": [
    "a={\"1\":\"One\",\"2\":\"Two\",\"3\":\"THree\",\"4\":\"Four\",\"5\":\"Five\",\"6\":\"Six\",\"7\":\"Seven\",\"8\":\"Eigth\",\"9\":\"Nine\"}\n",
    "c=input(\"enter number :-\")\n",
    "for i in c:\n",
    "    print(a.get(i,f\"({i} not avalaible)\"),end=\" \")"
   ]
  },
  {
   "cell_type": "code",
   "execution_count": null,
   "metadata": {},
   "outputs": [],
   "source": [
    "def Star(n):\n",
    "    for i in range(n,-1,-1):\n",
    "        print(\"*\"*i)\n",
    "\n",
    "Star(10)"
   ]
  },
  {
   "cell_type": "code",
   "execution_count": null,
   "metadata": {},
   "outputs": [],
   "source": [
    "def NStart(n):\n",
    "    for i in range(1,n,1):\n",
    "        print(\"*\"*i)\n",
    "\n",
    "NStart(15)"
   ]
  },
  {
   "cell_type": "code",
   "execution_count": 67,
   "metadata": {},
   "outputs": [
    {
     "name": "stdout",
     "output_type": "stream",
     "text": [
      "            * \n",
      "           * * \n",
      "          * * * \n",
      "         * * * * \n",
      "        * * * * * \n",
      "       * * * * * * \n",
      "      * * * * * * * \n",
      "     * * * * * * * * \n",
      "    * * * * * * * * * \n",
      "   * * * * * * * * * * \n",
      "  * * * * * * * * * * * \n",
      "           ***\n",
      "           ***\n",
      "           ***\n",
      "           ***\n",
      "           ***\n",
      "           ***\n",
      "           ***\n",
      "***********************************\n",
      "***********************************\n",
      "***********************************\n"
     ]
    }
   ],
   "source": [
    "for i in range(1,12):\n",
    "    print(\" \"*(12-i),\"* \"*i)\n",
    "for i in range(1,8):\n",
    "    print(\" \"*(5+5),\"*\"*3,)\n",
    "for i in range(1,4):\n",
    "    print(\"*\"*35)\n",
    "    \n"
   ]
  },
  {
   "cell_type": "code",
   "execution_count": 72,
   "metadata": {},
   "outputs": [
    {
     "data": {
      "text/plain": [
       "[2, 4, 6, 8]"
      ]
     },
     "execution_count": 72,
     "metadata": {},
     "output_type": "execute_result"
    }
   ],
   "source": [
    "a=[i for i in range(1,10)if i%2==0]\n",
    "a"
   ]
  }
 ],
 "metadata": {
  "kernelspec": {
   "display_name": "Python 3",
   "language": "python",
   "name": "python3"
  },
  "language_info": {
   "codemirror_mode": {
    "name": "ipython",
    "version": 3
   },
   "file_extension": ".py",
   "mimetype": "text/x-python",
   "name": "python",
   "nbconvert_exporter": "python",
   "pygments_lexer": "ipython3",
   "version": "3.10.5"
  }
 },
 "nbformat": 4,
 "nbformat_minor": 2
}
